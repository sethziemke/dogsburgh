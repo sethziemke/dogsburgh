{
 "cells": [
  {
   "cell_type": "markdown",
   "metadata": {},
   "source": [
    "# Finding the best neighborhood in Pittsburgh\n",
    "## Processing Data with Python\n",
    "### Overview\n",
    "Defining what makes the best neighborhood in Pittsburgh requires infinite wisdom and knowledge on each community. Or data. We took into account: obesity rate, since we want a healthy populace; playgrounds, as promoters of an active and social community; the number of firearm seizures, since guns are scary; and playing fields, because, again, we want an active and connected community. We also attempted to correlate obesity to the number of playground to see if they have any effect on each other. Also, playgrounds are always a wild time so there's an added bonus for those. Lastly, we tried to take a list of the 100 most common female to see which neighborhood has the most unique names, but one issue came up: the dog database accomodates zipcodes, not neighborhoods. Sorry, no dogs\n",
    "### Topics\n",
    "\n",
    "* Obesity\n",
    "* Playgrounds\n",
    "* Crime\n",
    "* Playing fields\n",
    "* Not dogs"
   ]
  },
  {
   "cell_type": "markdown",
   "metadata": {},
   "source": [
    "# Importing Libraries and Initializing Data: Obesity"
   ]
  },
  {
   "cell_type": "markdown",
   "metadata": {},
   "source": [
    "Obesity rates are important because we want our children to be as healthy as possible. This data is from 2006-2010, so it is relatively recent"
   ]
  },
  {
   "cell_type": "code",
   "execution_count": 184,
   "metadata": {},
   "outputs": [
    {
     "name": "stdout",
     "output_type": "stream",
     "text": [
      "<class 'pandas.core.frame.DataFrame'>\n",
      "RangeIndex: 416 entries, 0 to 415\n",
      "Data columns (total 2 columns):\n",
      "City Neighborhood                140 non-null object\n",
      "2006-2010 estimate of obesity    416 non-null float64\n",
      "dtypes: float64(1), object(1)\n",
      "memory usage: 6.6+ KB\n"
     ]
    },
    {
     "data": {
      "text/html": [
       "<div>\n",
       "<style scoped>\n",
       "    .dataframe tbody tr th:only-of-type {\n",
       "        vertical-align: middle;\n",
       "    }\n",
       "\n",
       "    .dataframe tbody tr th {\n",
       "        vertical-align: top;\n",
       "    }\n",
       "\n",
       "    .dataframe thead th {\n",
       "        text-align: right;\n",
       "    }\n",
       "</style>\n",
       "<table border=\"1\" class=\"dataframe\">\n",
       "  <thead>\n",
       "    <tr style=\"text-align: right;\">\n",
       "      <th></th>\n",
       "      <th>City Neighborhood</th>\n",
       "      <th>2006-2010 estimate of obesity</th>\n",
       "    </tr>\n",
       "  </thead>\n",
       "  <tbody>\n",
       "    <tr>\n",
       "      <th>0</th>\n",
       "      <td>Bluff</td>\n",
       "      <td>0.246936</td>\n",
       "    </tr>\n",
       "    <tr>\n",
       "      <th>1</th>\n",
       "      <td>Central Business District</td>\n",
       "      <td>0.668012</td>\n",
       "    </tr>\n",
       "    <tr>\n",
       "      <th>2</th>\n",
       "      <td>Strip District</td>\n",
       "      <td>0.369996</td>\n",
       "    </tr>\n",
       "    <tr>\n",
       "      <th>3</th>\n",
       "      <td>Crawford Roberts</td>\n",
       "      <td>0.488691</td>\n",
       "    </tr>\n",
       "    <tr>\n",
       "      <th>4</th>\n",
       "      <td>West oakland</td>\n",
       "      <td>0.366391</td>\n",
       "    </tr>\n",
       "    <tr>\n",
       "      <th>5</th>\n",
       "      <td>North oakland</td>\n",
       "      <td>0.155867</td>\n",
       "    </tr>\n",
       "    <tr>\n",
       "      <th>6</th>\n",
       "      <td>Central Oakland</td>\n",
       "      <td>0.112780</td>\n",
       "    </tr>\n",
       "    <tr>\n",
       "      <th>7</th>\n",
       "      <td>Central Oakland</td>\n",
       "      <td>0.144556</td>\n",
       "    </tr>\n",
       "    <tr>\n",
       "      <th>8</th>\n",
       "      <td>South Oakland</td>\n",
       "      <td>0.281331</td>\n",
       "    </tr>\n",
       "    <tr>\n",
       "      <th>9</th>\n",
       "      <td>Middle Hill</td>\n",
       "      <td>0.608099</td>\n",
       "    </tr>\n",
       "    <tr>\n",
       "      <th>10</th>\n",
       "      <td>Upper Hill</td>\n",
       "      <td>0.455786</td>\n",
       "    </tr>\n",
       "    <tr>\n",
       "      <th>11</th>\n",
       "      <td>Bedford Dwellings</td>\n",
       "      <td>0.636222</td>\n",
       "    </tr>\n",
       "    <tr>\n",
       "      <th>12</th>\n",
       "      <td>Terrace Village</td>\n",
       "      <td>0.555073</td>\n",
       "    </tr>\n",
       "    <tr>\n",
       "      <th>13</th>\n",
       "      <td>Terrace Village</td>\n",
       "      <td>0.793133</td>\n",
       "    </tr>\n",
       "    <tr>\n",
       "      <th>14</th>\n",
       "      <td>Lower Lawrenceville</td>\n",
       "      <td>0.319569</td>\n",
       "    </tr>\n",
       "    <tr>\n",
       "      <th>15</th>\n",
       "      <td>Polish Hill</td>\n",
       "      <td>0.320701</td>\n",
       "    </tr>\n",
       "    <tr>\n",
       "      <th>16</th>\n",
       "      <td>Shadyside</td>\n",
       "      <td>0.128451</td>\n",
       "    </tr>\n",
       "    <tr>\n",
       "      <th>17</th>\n",
       "      <td>Shadyside</td>\n",
       "      <td>0.130383</td>\n",
       "    </tr>\n",
       "    <tr>\n",
       "      <th>18</th>\n",
       "      <td>Shadyside</td>\n",
       "      <td>0.118533</td>\n",
       "    </tr>\n",
       "    <tr>\n",
       "      <th>19</th>\n",
       "      <td>Shadyside</td>\n",
       "      <td>0.134520</td>\n",
       "    </tr>\n",
       "  </tbody>\n",
       "</table>\n",
       "</div>"
      ],
      "text/plain": [
       "            City Neighborhood  2006-2010 estimate of obesity\n",
       "0                       Bluff                       0.246936\n",
       "1   Central Business District                       0.668012\n",
       "2              Strip District                       0.369996\n",
       "3            Crawford Roberts                       0.488691\n",
       "4                West oakland                       0.366391\n",
       "5               North oakland                       0.155867\n",
       "6             Central Oakland                       0.112780\n",
       "7             Central Oakland                       0.144556\n",
       "8               South Oakland                       0.281331\n",
       "9                 Middle Hill                       0.608099\n",
       "10                 Upper Hill                       0.455786\n",
       "11          Bedford Dwellings                       0.636222\n",
       "12            Terrace Village                       0.555073\n",
       "13            Terrace Village                       0.793133\n",
       "14        Lower Lawrenceville                       0.319569\n",
       "15                Polish Hill                       0.320701\n",
       "16                  Shadyside                       0.128451\n",
       "17                  Shadyside                       0.130383\n",
       "18                  Shadyside                       0.118533\n",
       "19                  Shadyside                       0.134520"
      ]
     },
     "execution_count": 184,
     "metadata": {},
     "output_type": "execute_result"
    }
   ],
   "source": [
    "import numpy as np\n",
    "import pandas as pd\n",
    "obesity_pandas = pd.read_csv('Obesity.csv')\n",
    "df = obesity_pandas[['City Neighborhood', '2006-2010 estimate of obesity']] \n",
    "df.info()\n",
    "df.sort_values(by=['City Neighborhood'])\n",
    "df.head(20)"
   ]
  },
  {
   "cell_type": "markdown",
   "metadata": {},
   "source": [
    "# Convert Categorical Data Municipality to Dummy Variables"
   ]
  },
  {
   "cell_type": "code",
   "execution_count": 112,
   "metadata": {},
   "outputs": [],
   "source": [
    "df_dummies = pd.get_dummies(df['City Neighborhood'])\n",
    "del df_dummies[df_dummies.columns[-1]]\n",
    "df_new = pd.concat([df, df_dummies], axis=1)\n",
    "del df_new['City Neighborhood']"
   ]
  },
  {
   "cell_type": "code",
   "execution_count": 5,
   "metadata": {},
   "outputs": [],
   "source": [
    "x = df_new.values"
   ]
  },
  {
   "cell_type": "markdown",
   "metadata": {},
   "source": [
    "# Print Correlation Matrix"
   ]
  },
  {
   "cell_type": "code",
   "execution_count": 6,
   "metadata": {},
   "outputs": [
    {
     "name": "stdout",
     "output_type": "stream",
     "text": [
      "[[ 1.          0.00610784 -0.04040271 ... -0.00503468  0.02902387\n",
      "  -0.01362569]\n",
      " [ 0.00610784  1.         -0.00240964 ... -0.00240964 -0.00240964\n",
      "  -0.00240964]\n",
      " [-0.04040271 -0.00240964  1.         ... -0.00240964 -0.00240964\n",
      "  -0.00240964]\n",
      " ...\n",
      " [-0.00503468 -0.00240964 -0.00240964 ...  1.         -0.00240964\n",
      "  -0.00240964]\n",
      " [ 0.02902387 -0.00240964 -0.00240964 ... -0.00240964  1.\n",
      "  -0.00240964]\n",
      " [-0.01362569 -0.00240964 -0.00240964 ... -0.00240964 -0.00240964\n",
      "   1.        ]]\n"
     ]
    }
   ],
   "source": [
    "correlation_matrix = np.corrcoef(x.T)\n",
    "print(correlation_matrix)"
   ]
  },
  {
   "cell_type": "markdown",
   "metadata": {},
   "source": [
    "# Introducing Playgrounds"
   ]
  },
  {
   "cell_type": "markdown",
   "metadata": {},
   "source": [
    "Playgrounds are always a wild time. Let's see which communities have the most!"
   ]
  },
  {
   "cell_type": "code",
   "execution_count": 137,
   "metadata": {},
   "outputs": [],
   "source": [
    "playgrounds_pandas = pd.read_csv('Playgrounds.csv')\n",
    "pgdf= playgrounds_pandas[['neighborhood']]"
   ]
  },
  {
   "cell_type": "code",
   "execution_count": 114,
   "metadata": {},
   "outputs": [
    {
     "data": {
      "text/plain": [
       "2006-2010 estimate of obesity   NaN\n",
       "dtype: float64"
      ]
     },
     "execution_count": 114,
     "metadata": {},
     "output_type": "execute_result"
    }
   ],
   "source": [
    "df.corrwith(pgdf) #was df2.count before changes to what df2 is"
   ]
  },
  {
   "cell_type": "code",
   "execution_count": 163,
   "metadata": {},
   "outputs": [
    {
     "data": {
      "text/plain": [
       "Squirrel Hill South         8\n",
       "Beechview                   5\n",
       "South Side Slopes           5\n",
       "Sheraden                    4\n",
       "Allegheny Center            4\n",
       "Highland Park               4\n",
       "South Oakland               3\n",
       "Carrick                     3\n",
       "Elliott                     3\n",
       "Mount Washington            3\n",
       "Crawford-Roberts            3\n",
       "Beltzhoover                 3\n",
       "Hazelwood                   3\n",
       "Manchester                  2\n",
       "Greenfield                  2\n",
       "South Side Flats            2\n",
       "Lincoln-Lemington-Belmar    2\n",
       "Crafton Heights             2\n",
       "Brookline                   2\n",
       "Bloomfield                  2\n",
       "Name: neighborhood, dtype: int64"
      ]
     },
     "execution_count": 163,
     "metadata": {},
     "output_type": "execute_result"
    }
   ],
   "source": [
    "pgdf['neighborhood'].value_counts().head(20)"
   ]
  },
  {
   "cell_type": "markdown",
   "metadata": {},
   "source": [
    "Here we can see Squirrel Hill South's immense amount of playgrounds in both table and graph form"
   ]
  },
  {
   "cell_type": "code",
   "execution_count": 162,
   "metadata": {},
   "outputs": [
    {
     "data": {
      "text/plain": [
       "<matplotlib.axes._subplots.AxesSubplot at 0x7f3c478bfeb8>"
      ]
     },
     "execution_count": 162,
     "metadata": {},
     "output_type": "execute_result"
    },
    {
     "data": {
      "image/png": "[encoded data removed]",
      "text/plain": [
       "<Figure size 432x288 with 1 Axes>"
      ]
     },
     "metadata": {
      "needs_background": "light"
     },
     "output_type": "display_data"
    }
   ],
   "source": [
    "pgdf['neighborhood'].value_counts().head(15).plot(kind='bar')"
   ]
  },
  {
   "cell_type": "markdown",
   "metadata": {},
   "source": [
    "# Firearm Seizures"
   ]
  },
  {
   "cell_type": "markdown",
   "metadata": {},
   "source": [
    "We want our neighborhood to be as safe as possible so projectile-firing weapons are a no-go. Let's start by looking at a table containing all the neighborhoods and the amount of firearm seizures from 2015 to present day."
   ]
  },
  {
   "cell_type": "code",
   "execution_count": 121,
   "metadata": {},
   "outputs": [],
   "source": [
    "firearm_pandas = pd.read_csv(\"FirearmSeizures.csv\")\n",
    "fadf = firearm_pandas[[\"neighborhood\",\"total_count\"]]  "
   ]
  },
  {
   "cell_type": "code",
   "execution_count": 122,
   "metadata": {},
   "outputs": [
    {
     "data": {
      "text/plain": [
       "Homewood South               145\n",
       "South Side Flats             105\n",
       "Larimer                       87\n",
       "Homewood North                79\n",
       "Hazelwood                     76\n",
       "Carrick                       72\n",
       "Marshall-Shadeland            70\n",
       "Central Business District     69\n",
       "Sheraden                      69\n",
       "Perry South                   67\n",
       "Knoxville                     61\n",
       "Middle Hill                   60\n",
       "Garfield                      60\n",
       "Lincoln-Lemington-Belmar      57\n",
       "Mount Washington              54\n",
       "East Hills                    51\n",
       "Brighton Heights              49\n",
       "East Liberty                  48\n",
       "Bedford Dwellings             47\n",
       "Central Northside             43\n",
       "Name: neighborhood, dtype: int64"
      ]
     },
     "execution_count": 122,
     "metadata": {},
     "output_type": "execute_result"
    }
   ],
   "source": [
    "fadf['neighborhood'].value_counts().head(20)"
   ]
  },
  {
   "cell_type": "markdown",
   "metadata": {},
   "source": [
    "Here we see Homewood South at the top. Let's look at this in graph form:"
   ]
  },
  {
   "cell_type": "code",
   "execution_count": 127,
   "metadata": {},
   "outputs": [
    {
     "data": {
      "text/plain": [
       "<matplotlib.axes._subplots.AxesSubplot at 0x7f3c47d9a320>"
      ]
     },
     "execution_count": 127,
     "metadata": {},
     "output_type": "execute_result"
    },
    {
     "data": {
      "image/png": "[encoded data removed]",
      "text/plain": [
       "<Figure size 432x288 with 1 Axes>"
      ]
     },
     "metadata": {
      "needs_background": "light"
     },
     "output_type": "display_data"
    }
   ],
   "source": [
    "fadf['neighborhood'].value_counts().head(15).plot(kind='bar')"
   ]
  },
  {
   "cell_type": "markdown",
   "metadata": {},
   "source": [
    "# Playing Fields"
   ]
  },
  {
   "cell_type": "markdown",
   "metadata": {},
   "source": [
    "Onto playing fields:"
   ]
  },
  {
   "cell_type": "code",
   "execution_count": 128,
   "metadata": {},
   "outputs": [
    {
     "data": {
      "text/plain": [
       "Homewood South               145\n",
       "South Side Flats             105\n",
       "Larimer                       87\n",
       "Homewood North                79\n",
       "Hazelwood                     76\n",
       "Carrick                       72\n",
       "Marshall-Shadeland            70\n",
       "Central Business District     69\n",
       "Sheraden                      69\n",
       "Perry South                   67\n",
       "Knoxville                     61\n",
       "Middle Hill                   60\n",
       "Garfield                      60\n",
       "Lincoln-Lemington-Belmar      57\n",
       "Mount Washington              54\n",
       "East Hills                    51\n",
       "Brighton Heights              49\n",
       "East Liberty                  48\n",
       "Bedford Dwellings             47\n",
       "Central Northside             43\n",
       "Name: neighborhood, dtype: int64"
      ]
     },
     "execution_count": 128,
     "metadata": {},
     "output_type": "execute_result"
    }
   ],
   "source": [
    "fields_pandas = pd.read_csv(\"FirearmSeizures.csv\")\n",
    "pfdf = fields_pandas[[\"neighborhood\",\"total_count\"]] \n",
    "pfdf['neighborhood'].value_counts().head(20)"
   ]
  },
  {
   "cell_type": "code",
   "execution_count": 129,
   "metadata": {},
   "outputs": [
    {
     "data": {
      "text/plain": [
       "<matplotlib.axes._subplots.AxesSubplot at 0x7f3c47e75940>"
      ]
     },
     "execution_count": 129,
     "metadata": {},
     "output_type": "execute_result"
    },
    {
     "data": {
      "image/png": "[encoded data removed]",
      "text/plain": [
       "<Figure size 432x288 with 1 Axes>"
      ]
     },
     "metadata": {
      "needs_background": "light"
     },
     "output_type": "display_data"
    }
   ],
   "source": [
    "pfdf['neighborhood'].value_counts().head(15).plot(kind='bar')"
   ]
  },
  {
   "cell_type": "markdown",
   "metadata": {},
   "source": [
    "# Interpreting the data"
   ]
  },
  {
   "cell_type": "markdown",
   "metadata": {},
   "source": [
    "To translate these numbers into something meaningful, we created a completely scientific method: turn each value in each table into a value from 0-1 (to keep factors with high numbers like playing fields from being too heavily weighted) by dividing them by the maximum value in the table, multiply them by an 'importance rating' determined by facts and logic, then add them together. The highest total will be the winner!\n",
    "* Firearm multiplier: -0.2\n",
    "* Playing field multiplier: 0.2\n",
    "* Playground multiplier: 0.3"
   ]
  },
  {
   "cell_type": "code",
   "execution_count": 182,
   "metadata": {},
   "outputs": [
    {
     "data": {
      "text/plain": [
       "<matplotlib.axes._subplots.AxesSubplot at 0x7f3c472554e0>"
      ]
     },
     "execution_count": 182,
     "metadata": {},
     "output_type": "execute_result"
    },
    {
     "data": {
      "image/png": "[encoded data removed]",
      "text/plain": [
       "<Figure size 432x288 with 1 Axes>"
      ]
     },
     "metadata": {
      "needs_background": "light"
     },
     "output_type": "display_data"
    }
   ],
   "source": [
    "((fadf['neighborhood'].value_counts().div(145)*(-0.2))+(pfdf['neighborhood'].value_counts().div(145)*0.2)+(pgdf['neighborhood'].value_counts().div(8)*(0.3))).sort_values(ascending=False).head(15).plot(kind='bar')"
   ]
  },
  {
   "cell_type": "markdown",
   "metadata": {},
   "source": [
    "As we can see, Squirrel Hill South is by far the best neighborhood in Pittsburgh. Beechview and South Side Slopes are neck and neck for second and third."
   ]
  }
 ],
 "metadata": {
  "kernelspec": {
   "display_name": "Python 3.7",
   "language": "python",
   "name": "python3"
  },
  "language_info": {
   "codemirror_mode": {
    "name": "ipython",
    "version": 3
   },
   "file_extension": ".py",
   "mimetype": "text/x-python",
   "name": "python",
   "nbconvert_exporter": "python",
   "pygments_lexer": "ipython3",
   "version": "3.7.0"
  }
 },
 "nbformat": 4,
 "nbformat_minor": 4
}
